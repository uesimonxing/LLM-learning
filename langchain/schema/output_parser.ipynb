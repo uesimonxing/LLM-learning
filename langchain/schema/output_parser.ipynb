{
 "cells": [
  {
   "cell_type": "markdown",
   "metadata": {},
   "source": [
    "Environment Settings"
   ]
  },
  {
   "cell_type": "code",
   "execution_count": 1,
   "metadata": {},
   "outputs": [],
   "source": [
    "from dotenv import load_dotenv\n",
    "_ = load_dotenv()\n",
    "\n",
    "import ipywidgets as widgets\n",
    "from IPython.display import display\n",
    "\n",
    "import iplantuml"
   ]
  },
  {
   "cell_type": "code",
   "execution_count": 19,
   "metadata": {},
   "outputs": [
    {
     "name": "stdout",
     "output_type": "stream",
     "text": [
      "{'name': 'get_user_attribute', 'arguments': '{\\n  \"attribute_name\": \"name\"\\n}'}\n",
      "{'attribute_name': 'name'}\n",
      "name\n"
     ]
    }
   ],
   "source": [
    "import langchain\n",
    "from langchain.cache import InMemoryCache\n",
    "langchain.cache = InMemoryCache()\n",
    "\n",
    "from langchain.schema import *\n",
    "from langchain.schema.output_parser import *\n",
    "from langchain.output_parsers.openai_functions import *\n",
    "from langchain.prompts import *\n",
    "\n",
    "from langchain.chat_models import ChatOpenAI\n",
    "\n",
    "functions = [\n",
    "    {\n",
    "        \"name\": \"get_user_attribute\",\n",
    "        \"description\": \"Get the value of the attribute\",\n",
    "        \"parameters\": {\n",
    "            \"type\": \"object\",\n",
    "            \"properties\": {\n",
    "            \"attribute_name\": {\n",
    "                \"type\": \"string\",\n",
    "                \"description\": \"The name of the attribute\",\n",
    "                \"enum\": [\"name\", \"age\"]\n",
    "            }\n",
    "            },\n",
    "            \"required\": [\"attribute_name\"]\n",
    "        }\n",
    "    }\n",
    "  ]\n",
    "\n",
    "if False:\n",
    "    chat = ChatOpenAI()\n",
    "    message_template = HumanMessagePromptTemplate.from_template(\"Hello, how are you?\")\n",
    "    prompt = ChatPromptTemplate.from_messages([message_template])\n",
    "    parser = StrOutputParser()\n",
    "    chain = prompt | chat # | parser\n",
    "    print(chain.invoke(input={}))\n",
    "\n",
    "if True:\n",
    "    chat = ChatOpenAI(model=\"gpt-4\")\n",
    "\n",
    "    message_template = HumanMessagePromptTemplate.from_template('一般来说，大家对我的妻子的尊称叫什么？')\n",
    "    prompt = ChatPromptTemplate.from_messages([message_template])\n",
    "    \n",
    "    parser = OutputFunctionsParser(args_only=False)\n",
    "    chain = prompt | chat.bind(function_call= {\"name\": \"get_user_attribute\"}, functions=functions) | parser\n",
    "    print(chain.invoke(input={}))\n",
    "    \n",
    "    parser = JsonOutputFunctionsParser()\n",
    "    chain = prompt | chat.bind(function_call= {\"name\": \"get_user_attribute\"}, functions=functions) | parser\n",
    "    print(chain.invoke(input={}))\n",
    "    \n",
    "    parser = JsonKeyOutputFunctionsParser(key_name=\"attribute_name\")\n",
    "    chain = prompt | chat.bind(function_call= {\"name\": \"get_user_attribute\"}, functions=functions) | parser\n",
    "    print(chain.invoke(input={}))\n",
    "\n",
    "\n",
    "\n",
    "\n",
    "\n",
    "\n",
    "\n",
    "\n"
   ]
  }
 ],
 "metadata": {
  "kernelspec": {
   "display_name": "llm-learning-jupyter",
   "language": "python",
   "name": "python3"
  },
  "language_info": {
   "codemirror_mode": {
    "name": "ipython",
    "version": 3
   },
   "file_extension": ".py",
   "mimetype": "text/x-python",
   "name": "python",
   "nbconvert_exporter": "python",
   "pygments_lexer": "ipython3",
   "version": "3.11.4"
  },
  "orig_nbformat": 4
 },
 "nbformat": 4,
 "nbformat_minor": 2
}
