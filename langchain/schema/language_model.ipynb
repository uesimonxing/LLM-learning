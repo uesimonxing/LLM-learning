{
 "cells": [
  {
   "cell_type": "markdown",
   "metadata": {},
   "source": [
    "# Theory"
   ]
  },
  {
   "cell_type": "markdown",
   "metadata": {},
   "source": [
    "## **BaseLanguageModel**"
   ]
  },
  {
   "cell_type": "markdown",
   "metadata": {},
   "source": [
    "**Runnable**\n",
    "$$\n",
    "R_{Output}^{Input} := BaseLanguageModel_{LanguageModelOutput := PromptValue \\cup str \\cup BaseMessage}^{LanguageModelIutput}\n",
    "$$\n",
    "\n",
    "**invokes**\n",
    "- $generate( messages: List[List[BaseMessage]] ) \\rightarrow LLMResult$\n",
    "- $generate\\_prompt( prompts: List[PromptValue] ) \\rightarrow LLMResult$\n",
    "- $predict( text:str) \\rightarrow str$\n",
    "- $predict\\_messages( messages: List[BaseMessage]) \\rightarrow BaseMessage$\n",
    "\n",
    "**token couting**\n",
    "- $get\\_token\\_ids(text: str) \\rightarrow List[int]$\n",
    "- $get\\_num\\_tokens(text: str) \\rightarrow int$\n",
    "- $get\\_num\\_tokens\\_from\\_messages(messages: List[BaseMessage]) \\rightarrow int$\n",
    "\n"
   ]
  },
  {
   "cell_type": "markdown",
   "metadata": {},
   "source": [
    "## **BaseChatModel**.BaseLanguageModel"
   ]
  },
  {
   "cell_type": "markdown",
   "metadata": {},
   "source": [
    "**Runnable**\n",
    "$$\n",
    "BaseLanguageModel_{LanguageModelOutput := PromptValue \\cup str \\cup BaseMessage}^{LanguageModelIutput} := BaseChatModel_{BaseMessageChunk}^{LanguageModelInput}\n",
    "$$\n",
    "\n",
    "**invokes**\n",
    "- $\\_\\_call\\_\\_(messages: List[BaseMessage]) \\rightarrow BaseMessage$\n",
    "- $call\\_as\\_llm(message: str) \\rightarrow str$\n",
    "\n"
   ]
  },
  {
   "cell_type": "markdown",
   "metadata": {},
   "source": [
    "## **ChatOpenAI**.BaseChatModel.BaseLanguageModel"
   ]
  },
  {
   "cell_type": "markdown",
   "metadata": {},
   "source": [
    "# Engineering"
   ]
  },
  {
   "cell_type": "markdown",
   "metadata": {},
   "source": [
    "## Environment Setup"
   ]
  },
  {
   "cell_type": "code",
   "execution_count": 12,
   "metadata": {},
   "outputs": [],
   "source": [
    "from dotenv import load_dotenv\n",
    "_ = load_dotenv()\n",
    "\n",
    "import ipywidgets as widgets\n",
    "from IPython.display import display\n",
    "\n",
    "import iplantuml"
   ]
  }
 ],
 "metadata": {
  "kernelspec": {
   "display_name": "llm-learning-jupyter",
   "language": "python",
   "name": "python3"
  },
  "language_info": {
   "codemirror_mode": {
    "name": "ipython",
    "version": 3
   },
   "file_extension": ".py",
   "mimetype": "text/x-python",
   "name": "python",
   "nbconvert_exporter": "python",
   "pygments_lexer": "ipython3",
   "version": "3.11.4"
  },
  "orig_nbformat": 4
 },
 "nbformat": 4,
 "nbformat_minor": 2
}
